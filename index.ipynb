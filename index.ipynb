{
 "cells": [
  {
   "cell_type": "markdown",
   "metadata": {},
   "source": [
    "### **Business Understanding**\n",
    "\n",
    "\n",
    "### *Business Problem*\n",
    "The primary business problem is to predict the likelihood that individuals will receive the seasonal flu vaccines in the **United States** based on their backgounds, opinions, and health-related behaviors. By understanding the factors that influence vaccine uptake, we can help the public health organizations and healthcare providers to design more effective vaccination campaigns and help policy makers allocate resources more efficiently. This will ultimately improve vaccination rates thus reducing the spread of these viruses.\n",
    "\n",
    "### *Specific Questions to Address*\n",
    "1. *Which factors most influence the decision to get vaccinated?*\n",
    "   - Identifying key demographic, behavioral, or opinion-based variables that are strong predictors of vaccine uptake.\n",
    "  \n",
    "2. *Can we accurately predict who is likely to get vaccinated?*\n",
    "   - Building a predictive model to classify individuals as likely or unlikely to get vaccinated.\n",
    "\n",
    "3. *How can public health interventions be targeted more effectively?*\n",
    "   - Using the model’s insights to inform public health strategies, such as targeted communication or incentives for groups less likely to get vaccinated.\n",
    "\n",
    "### *Use Case or Stakeholders to our model*\n",
    "This analysis could be used by:\n",
    "- **Public Health Departments**: To identify segments of the population that are less likely to get vaccinated and develop targeted interventions.\n",
    "- **Healthcare Providers**: Can use the model to identify patients who are less likely to get vaccinated and engage in targeted outreach.\n",
    "- **Policy Makers**: To allocate resources and plan vaccination drives more effectively based on predicted uptake.\n",
    "\n",
    "### *Outcome*\n",
    "The expected outcome is a **predictive model** that helps in identifying the likelihood of individuals receiving the vaccine, which can then be used to tailor public health campaigns and interventions, ultimately aiming to increase vaccination rates and reduce the spread of illness.\n",
    "\n",
    "### *Potential Impact*\n",
    "- **Improved Vaccination Rates**: By identifying the determinants of vaccine uptake, targeted interventions can be designed to increase vaccination rates, leading to better public health outcomes.\n",
    "- **Resource Optimization**: Health departments can allocate resources more effectively by focusing efforts on groups identified as less likely to get vaccinated.\n",
    "- **Policy Development**: Data-driven policies can be developed to address barriers to vaccination, such as misinformation or access issues.\n"
   ]
  },
  {
   "cell_type": "markdown",
   "metadata": {},
   "source": [
    "### Loading our dataset to be used in our analysis"
   ]
  },
  {
   "cell_type": "code",
   "execution_count": 24,
   "metadata": {},
   "outputs": [],
   "source": [
    "import pandas as pd\n",
    "import numpy as np\n",
    "#Loading the training dataset\n",
    "train_df = pd.read_csv(\"training_set_features.csv\")\n",
    "test_df = pd.read_csv(\"test_set_features.csv\")\n",
    "training_labels = pd.read_csv(\"training_set_labels.csv\")\n"
   ]
  },
  {
   "cell_type": "markdown",
   "metadata": {},
   "source": [
    "### Data Exploration and Understing\n",
    "- Understanding the data structure\n",
    "- Understanding the data types\n",
    "- Handling missing values\n",
    "- Checking for outliers\n",
    "- Checking for inconsistencies"
   ]
  },
  {
   "cell_type": "code",
   "execution_count": 25,
   "metadata": {},
   "outputs": [
    {
     "name": "stdout",
     "output_type": "stream",
     "text": [
      "<class 'pandas.core.frame.DataFrame'>\n",
      "RangeIndex: 26707 entries, 0 to 26706\n",
      "Data columns (total 36 columns):\n",
      " #   Column                       Non-Null Count  Dtype  \n",
      "---  ------                       --------------  -----  \n",
      " 0   respondent_id                26707 non-null  int64  \n",
      " 1   h1n1_concern                 26615 non-null  float64\n",
      " 2   h1n1_knowledge               26591 non-null  float64\n",
      " 3   behavioral_antiviral_meds    26636 non-null  float64\n",
      " 4   behavioral_avoidance         26499 non-null  float64\n",
      " 5   behavioral_face_mask         26688 non-null  float64\n",
      " 6   behavioral_wash_hands        26665 non-null  float64\n",
      " 7   behavioral_large_gatherings  26620 non-null  float64\n",
      " 8   behavioral_outside_home      26625 non-null  float64\n",
      " 9   behavioral_touch_face        26579 non-null  float64\n",
      " 10  doctor_recc_h1n1             24547 non-null  float64\n",
      " 11  doctor_recc_seasonal         24547 non-null  float64\n",
      " 12  chronic_med_condition        25736 non-null  float64\n",
      " 13  child_under_6_months         25887 non-null  float64\n",
      " 14  health_worker                25903 non-null  float64\n",
      " 15  health_insurance             14433 non-null  float64\n",
      " 16  opinion_h1n1_vacc_effective  26316 non-null  float64\n",
      " 17  opinion_h1n1_risk            26319 non-null  float64\n",
      " 18  opinion_h1n1_sick_from_vacc  26312 non-null  float64\n",
      " 19  opinion_seas_vacc_effective  26245 non-null  float64\n",
      " 20  opinion_seas_risk            26193 non-null  float64\n",
      " 21  opinion_seas_sick_from_vacc  26170 non-null  float64\n",
      " 22  age_group                    26707 non-null  object \n",
      " 23  education                    25300 non-null  object \n",
      " 24  race                         26707 non-null  object \n",
      " 25  sex                          26707 non-null  object \n",
      " 26  income_poverty               22284 non-null  object \n",
      " 27  marital_status               25299 non-null  object \n",
      " 28  rent_or_own                  24665 non-null  object \n",
      " 29  employment_status            25244 non-null  object \n",
      " 30  hhs_geo_region               26707 non-null  object \n",
      " 31  census_msa                   26707 non-null  object \n",
      " 32  household_adults             26458 non-null  float64\n",
      " 33  household_children           26458 non-null  float64\n",
      " 34  employment_industry          13377 non-null  object \n",
      " 35  employment_occupation        13237 non-null  object \n",
      "dtypes: float64(23), int64(1), object(12)\n",
      "memory usage: 7.3+ MB\n"
     ]
    },
    {
     "data": {
      "text/html": [
       "<div>\n",
       "<style scoped>\n",
       "    .dataframe tbody tr th:only-of-type {\n",
       "        vertical-align: middle;\n",
       "    }\n",
       "\n",
       "    .dataframe tbody tr th {\n",
       "        vertical-align: top;\n",
       "    }\n",
       "\n",
       "    .dataframe thead th {\n",
       "        text-align: right;\n",
       "    }\n",
       "</style>\n",
       "<table border=\"1\" class=\"dataframe\">\n",
       "  <thead>\n",
       "    <tr style=\"text-align: right;\">\n",
       "      <th></th>\n",
       "      <th>respondent_id</th>\n",
       "      <th>h1n1_concern</th>\n",
       "      <th>h1n1_knowledge</th>\n",
       "      <th>behavioral_antiviral_meds</th>\n",
       "      <th>behavioral_avoidance</th>\n",
       "      <th>behavioral_face_mask</th>\n",
       "      <th>behavioral_wash_hands</th>\n",
       "      <th>behavioral_large_gatherings</th>\n",
       "      <th>behavioral_outside_home</th>\n",
       "      <th>behavioral_touch_face</th>\n",
       "      <th>...</th>\n",
       "      <th>income_poverty</th>\n",
       "      <th>marital_status</th>\n",
       "      <th>rent_or_own</th>\n",
       "      <th>employment_status</th>\n",
       "      <th>hhs_geo_region</th>\n",
       "      <th>census_msa</th>\n",
       "      <th>household_adults</th>\n",
       "      <th>household_children</th>\n",
       "      <th>employment_industry</th>\n",
       "      <th>employment_occupation</th>\n",
       "    </tr>\n",
       "  </thead>\n",
       "  <tbody>\n",
       "    <tr>\n",
       "      <th>0</th>\n",
       "      <td>0</td>\n",
       "      <td>1.0</td>\n",
       "      <td>0.0</td>\n",
       "      <td>0.0</td>\n",
       "      <td>0.0</td>\n",
       "      <td>0.0</td>\n",
       "      <td>0.0</td>\n",
       "      <td>0.0</td>\n",
       "      <td>1.0</td>\n",
       "      <td>1.0</td>\n",
       "      <td>...</td>\n",
       "      <td>Below Poverty</td>\n",
       "      <td>Not Married</td>\n",
       "      <td>Own</td>\n",
       "      <td>Not in Labor Force</td>\n",
       "      <td>oxchjgsf</td>\n",
       "      <td>Non-MSA</td>\n",
       "      <td>0.0</td>\n",
       "      <td>0.0</td>\n",
       "      <td>NaN</td>\n",
       "      <td>NaN</td>\n",
       "    </tr>\n",
       "    <tr>\n",
       "      <th>1</th>\n",
       "      <td>1</td>\n",
       "      <td>3.0</td>\n",
       "      <td>2.0</td>\n",
       "      <td>0.0</td>\n",
       "      <td>1.0</td>\n",
       "      <td>0.0</td>\n",
       "      <td>1.0</td>\n",
       "      <td>0.0</td>\n",
       "      <td>1.0</td>\n",
       "      <td>1.0</td>\n",
       "      <td>...</td>\n",
       "      <td>Below Poverty</td>\n",
       "      <td>Not Married</td>\n",
       "      <td>Rent</td>\n",
       "      <td>Employed</td>\n",
       "      <td>bhuqouqj</td>\n",
       "      <td>MSA, Not Principle  City</td>\n",
       "      <td>0.0</td>\n",
       "      <td>0.0</td>\n",
       "      <td>pxcmvdjn</td>\n",
       "      <td>xgwztkwe</td>\n",
       "    </tr>\n",
       "    <tr>\n",
       "      <th>2</th>\n",
       "      <td>2</td>\n",
       "      <td>1.0</td>\n",
       "      <td>1.0</td>\n",
       "      <td>0.0</td>\n",
       "      <td>1.0</td>\n",
       "      <td>0.0</td>\n",
       "      <td>0.0</td>\n",
       "      <td>0.0</td>\n",
       "      <td>0.0</td>\n",
       "      <td>0.0</td>\n",
       "      <td>...</td>\n",
       "      <td>&lt;= $75,000, Above Poverty</td>\n",
       "      <td>Not Married</td>\n",
       "      <td>Own</td>\n",
       "      <td>Employed</td>\n",
       "      <td>qufhixun</td>\n",
       "      <td>MSA, Not Principle  City</td>\n",
       "      <td>2.0</td>\n",
       "      <td>0.0</td>\n",
       "      <td>rucpziij</td>\n",
       "      <td>xtkaffoo</td>\n",
       "    </tr>\n",
       "    <tr>\n",
       "      <th>3</th>\n",
       "      <td>3</td>\n",
       "      <td>1.0</td>\n",
       "      <td>1.0</td>\n",
       "      <td>0.0</td>\n",
       "      <td>1.0</td>\n",
       "      <td>0.0</td>\n",
       "      <td>1.0</td>\n",
       "      <td>1.0</td>\n",
       "      <td>0.0</td>\n",
       "      <td>0.0</td>\n",
       "      <td>...</td>\n",
       "      <td>Below Poverty</td>\n",
       "      <td>Not Married</td>\n",
       "      <td>Rent</td>\n",
       "      <td>Not in Labor Force</td>\n",
       "      <td>lrircsnp</td>\n",
       "      <td>MSA, Principle City</td>\n",
       "      <td>0.0</td>\n",
       "      <td>0.0</td>\n",
       "      <td>NaN</td>\n",
       "      <td>NaN</td>\n",
       "    </tr>\n",
       "    <tr>\n",
       "      <th>4</th>\n",
       "      <td>4</td>\n",
       "      <td>2.0</td>\n",
       "      <td>1.0</td>\n",
       "      <td>0.0</td>\n",
       "      <td>1.0</td>\n",
       "      <td>0.0</td>\n",
       "      <td>1.0</td>\n",
       "      <td>1.0</td>\n",
       "      <td>0.0</td>\n",
       "      <td>1.0</td>\n",
       "      <td>...</td>\n",
       "      <td>&lt;= $75,000, Above Poverty</td>\n",
       "      <td>Married</td>\n",
       "      <td>Own</td>\n",
       "      <td>Employed</td>\n",
       "      <td>qufhixun</td>\n",
       "      <td>MSA, Not Principle  City</td>\n",
       "      <td>1.0</td>\n",
       "      <td>0.0</td>\n",
       "      <td>wxleyezf</td>\n",
       "      <td>emcorrxb</td>\n",
       "    </tr>\n",
       "  </tbody>\n",
       "</table>\n",
       "<p>5 rows × 36 columns</p>\n",
       "</div>"
      ],
      "text/plain": [
       "   respondent_id  h1n1_concern  h1n1_knowledge  behavioral_antiviral_meds  \\\n",
       "0              0           1.0             0.0                        0.0   \n",
       "1              1           3.0             2.0                        0.0   \n",
       "2              2           1.0             1.0                        0.0   \n",
       "3              3           1.0             1.0                        0.0   \n",
       "4              4           2.0             1.0                        0.0   \n",
       "\n",
       "   behavioral_avoidance  behavioral_face_mask  behavioral_wash_hands  \\\n",
       "0                   0.0                   0.0                    0.0   \n",
       "1                   1.0                   0.0                    1.0   \n",
       "2                   1.0                   0.0                    0.0   \n",
       "3                   1.0                   0.0                    1.0   \n",
       "4                   1.0                   0.0                    1.0   \n",
       "\n",
       "   behavioral_large_gatherings  behavioral_outside_home  \\\n",
       "0                          0.0                      1.0   \n",
       "1                          0.0                      1.0   \n",
       "2                          0.0                      0.0   \n",
       "3                          1.0                      0.0   \n",
       "4                          1.0                      0.0   \n",
       "\n",
       "   behavioral_touch_face  ...             income_poverty  marital_status  \\\n",
       "0                    1.0  ...              Below Poverty     Not Married   \n",
       "1                    1.0  ...              Below Poverty     Not Married   \n",
       "2                    0.0  ...  <= $75,000, Above Poverty     Not Married   \n",
       "3                    0.0  ...              Below Poverty     Not Married   \n",
       "4                    1.0  ...  <= $75,000, Above Poverty         Married   \n",
       "\n",
       "   rent_or_own   employment_status  hhs_geo_region                census_msa  \\\n",
       "0          Own  Not in Labor Force        oxchjgsf                   Non-MSA   \n",
       "1         Rent            Employed        bhuqouqj  MSA, Not Principle  City   \n",
       "2          Own            Employed        qufhixun  MSA, Not Principle  City   \n",
       "3         Rent  Not in Labor Force        lrircsnp       MSA, Principle City   \n",
       "4          Own            Employed        qufhixun  MSA, Not Principle  City   \n",
       "\n",
       "   household_adults  household_children  employment_industry  \\\n",
       "0               0.0                 0.0                  NaN   \n",
       "1               0.0                 0.0             pxcmvdjn   \n",
       "2               2.0                 0.0             rucpziij   \n",
       "3               0.0                 0.0                  NaN   \n",
       "4               1.0                 0.0             wxleyezf   \n",
       "\n",
       "   employment_occupation  \n",
       "0                    NaN  \n",
       "1               xgwztkwe  \n",
       "2               xtkaffoo  \n",
       "3                    NaN  \n",
       "4               emcorrxb  \n",
       "\n",
       "[5 rows x 36 columns]"
      ]
     },
     "execution_count": 25,
     "metadata": {},
     "output_type": "execute_result"
    }
   ],
   "source": [
    "# Understanding the data structures and types\n",
    "train_df.info()\n",
    "\n",
    "train_df.head()"
   ]
  },
  {
   "cell_type": "markdown",
   "metadata": {},
   "source": [
    "#### Dropping unwanted columns"
   ]
  },
  {
   "cell_type": "code",
   "execution_count": 77,
   "metadata": {},
   "outputs": [],
   "source": [
    "# Dropping unwanted columns before we start processing our data\n",
    "# Defining columns to drop\n",
    "columns_to_drop = [\"respondent_id\", \"h1n1_concern\", \"h1n1_knowledge\", \"doctor_recc_h1n1\",\n",
    "                   \"opinion_h1n1_vacc_effective\", \"opinion_h1n1_risk\", \"opinion_h1n1_sick_from_vacc\"]\n",
    "\n",
    "# Droping columns if they exist in the DataFrame\n",
    "train_df = train_df.drop(columns=[col for col in columns_to_drop if col in train_df.columns], axis=1)"
   ]
  },
  {
   "cell_type": "markdown",
   "metadata": {},
   "source": [
    "### Checking for missing values, possible outliers, and any inconsistency in our data"
   ]
  },
  {
   "cell_type": "markdown",
   "metadata": {},
   "source": [
    "#### Checking missing values per column and per row and visualizing the same to have a better understanding"
   ]
  },
  {
   "cell_type": "code",
   "execution_count": 78,
   "metadata": {},
   "outputs": [
    {
     "name": "stdout",
     "output_type": "stream",
     "text": [
      "Missing values per column:\n",
      "behavioral_antiviral_meds         71\n",
      "behavioral_avoidance             208\n",
      "behavioral_face_mask              19\n",
      "behavioral_wash_hands             42\n",
      "behavioral_large_gatherings       87\n",
      "behavioral_outside_home           82\n",
      "behavioral_touch_face            128\n",
      "doctor_recc_seasonal            2160\n",
      "chronic_med_condition            971\n",
      "child_under_6_months             820\n",
      "health_worker                    804\n",
      "health_insurance               12274\n",
      "opinion_seas_vacc_effective      462\n",
      "opinion_seas_risk                514\n",
      "opinion_seas_sick_from_vacc      537\n",
      "age_group                          0\n",
      "education                       1407\n",
      "race                               0\n",
      "sex                                0\n",
      "income_poverty                  4423\n",
      "marital_status                  1408\n",
      "rent_or_own                     2042\n",
      "employment_status               1463\n",
      "hhs_geo_region                     0\n",
      "census_msa                         0\n",
      "household_adults                 249\n",
      "household_children               249\n",
      "employment_industry            13330\n",
      "employment_occupation          13470\n",
      "dtype: int64\n",
      "Number of rows with missing values: 20238\n"
     ]
    }
   ],
   "source": [
    "# Check for missing values\n",
    "missing_values = train_df.isnull().sum()\n",
    "print(\"Missing values per column:\")\n",
    "print(missing_values)\n",
    "\n",
    "# Check for missing values in rows\n",
    "missing_rows = train_df.isnull().any(axis=1)\n",
    "print(f\"Number of rows with missing values: {missing_rows.sum()}\")"
   ]
  },
  {
   "cell_type": "code",
   "execution_count": 79,
   "metadata": {},
   "outputs": [
    {
     "data": {
      "image/png": "[encoded data removed]",
      "text/plain": [
       "<Figure size 432x288 with 1 Axes>"
      ]
     },
     "metadata": {
      "needs_background": "light"
     },
     "output_type": "display_data"
    }
   ],
   "source": [
    "import seaborn as sns\n",
    "import matplotlib.pyplot as plt\n",
    "\n",
    "# Visualize missing values\n",
    "sns.heatmap(train_df.isnull(), cbar=False, cmap='viridis')\n",
    "plt.show()"
   ]
  },
  {
   "cell_type": "markdown",
   "metadata": {},
   "source": [
    "### Checking for inconsistencies"
   ]
  },
  {
   "cell_type": "code",
   "execution_count": 80,
   "metadata": {},
   "outputs": [
    {
     "ename": "NameError",
     "evalue": "name 'train_data_imputed' is not defined",
     "output_type": "error",
     "traceback": [
      "\u001b[1;31m---------------------------------------------------------------------------\u001b[0m",
      "\u001b[1;31mNameError\u001b[0m                                 Traceback (most recent call last)",
      "\u001b[1;32m<ipython-input-80-17bde6330b0c>\u001b[0m in \u001b[0;36m<module>\u001b[1;34m\u001b[0m\n\u001b[0;32m      5\u001b[0m \u001b[1;31m# Apply the function to each column and store the results\u001b[0m\u001b[1;33m\u001b[0m\u001b[1;33m\u001b[0m\u001b[1;33m\u001b[0m\u001b[0m\n\u001b[0;32m      6\u001b[0m \u001b[0mtype_summary\u001b[0m \u001b[1;33m=\u001b[0m \u001b[1;33m{\u001b[0m\u001b[1;33m}\u001b[0m\u001b[1;33m\u001b[0m\u001b[1;33m\u001b[0m\u001b[0m\n\u001b[1;32m----> 7\u001b[1;33m \u001b[1;32mfor\u001b[0m \u001b[0mcol\u001b[0m \u001b[1;32min\u001b[0m \u001b[0mtrain_data_imputed\u001b[0m\u001b[1;33m.\u001b[0m\u001b[0mcolumns\u001b[0m\u001b[1;33m:\u001b[0m\u001b[1;33m\u001b[0m\u001b[1;33m\u001b[0m\u001b[0m\n\u001b[0m\u001b[0;32m      8\u001b[0m     \u001b[0mtype_summary\u001b[0m\u001b[1;33m[\u001b[0m\u001b[0mcol\u001b[0m\u001b[1;33m]\u001b[0m \u001b[1;33m=\u001b[0m \u001b[0mcheck_column_types\u001b[0m\u001b[1;33m(\u001b[0m\u001b[0mtrain_data_imputed\u001b[0m\u001b[1;33m[\u001b[0m\u001b[0mcol\u001b[0m\u001b[1;33m]\u001b[0m\u001b[1;33m)\u001b[0m\u001b[1;33m\u001b[0m\u001b[1;33m\u001b[0m\u001b[0m\n\u001b[0;32m      9\u001b[0m \u001b[1;33m\u001b[0m\u001b[0m\n",
      "\u001b[1;31mNameError\u001b[0m: name 'train_data_imputed' is not defined"
     ]
    }
   ],
   "source": [
    "# Function to check types in a column\n",
    "def check_column_types(column):\n",
    "    return column.apply(type).value_counts()\n",
    "\n",
    "# Apply the function to each column and store the results\n",
    "type_summary = {}\n",
    "for col in train_data_imputed.columns:\n",
    "    type_summary[col] = check_column_types(train_data_imputed[col])\n",
    "\n",
    "# Print out type summaries\n",
    "print(\"\\nType summaries for each column:\")\n",
    "for col, types in type_summary.items():\n",
    "    print(f\"Unexpected types in column '{col}':\")\n",
    "    print(types)\n",
    "\n",
    "# Detect columns with mixed types\n",
    "mixed_type_columns = {col: types for col, types in type_summary.items() if len(types) > 1}\n",
    "\n",
    "print(\"\\nColumns with mixed types:\")\n",
    "for col, types in mixed_type_columns.items():\n",
    "    print(f\"Column '{col}' has the following types:\")\n",
    "    print(types)"
   ]
  },
  {
   "cell_type": "markdown",
   "metadata": {},
   "source": [
    "### Pre-processing the data before feature selection\n",
    "\n",
    "- Handling missing values\n",
    "- Encoding categorical variables\n",
    "- Scaling numerical features\n",
    "- Checking and visualizing outliers"
   ]
  },
  {
   "cell_type": "code",
   "execution_count": null,
   "metadata": {},
   "outputs": [],
   "source": [
    "import pandas as pd\n",
    "from sklearn.impute import SimpleImputer\n",
    "from sklearn.preprocessing import StandardScaler, OneHotEncoder\n",
    "\n",
    "\n",
    "# Handle missing values\n",
    "numerical_cols = train_df.select_dtypes(include=[float, int]).columns\n",
    "categorical_cols = train_df.select_dtypes(include=[object, 'category']).columns\n",
    "\n",
    "# Impute missing values\n",
    "numerical_imputer = SimpleImputer(strategy='mean')\n",
    "train_df[numerical_cols] = numerical_imputer.fit_transform(train_df[numerical_cols])\n",
    "\n",
    "categorical_imputer = SimpleImputer(strategy='most_frequent')\n",
    "train_df[categorical_cols] = categorical_imputer.fit_transform(train_df[categorical_cols])\n",
    "\n",
    "# Encode categorical variables\n",
    "encoder = OneHotEncoder(drop='first', sparse_output=False)\n",
    "encoded_categorical = encoder.fit_transform(train_df[categorical_cols])\n",
    "encoded_categorical_df = pd.DataFrame(encoded_categorical, columns=encoder.get_feature_names_out(categorical_cols))\n",
    "\n",
    "# Concatenate with original DataFrame\n",
    "train_df_encoded = pd.concat([train_df.drop(columns=categorical_cols), encoded_categorical_df], axis=1)\n",
    "\n",
    "# Scale numerical features\n",
    "scaler = StandardScaler()\n",
    "train_df_encoded[numerical_cols] = scaler.fit_transform(train_df_encoded[numerical_cols])\n",
    "\n",
    "print(train_df_encoded.head())\n"
   ]
  },
  {
   "cell_type": "markdown",
   "metadata": {},
   "source": [
    "#### Identifying outliers using the statistical method - Z-score"
   ]
  },
  {
   "cell_type": "code",
   "execution_count": null,
   "metadata": {},
   "outputs": [],
   "source": [
    "from scipy import stats\n",
    "\n",
    "# Compute Z-scores\n",
    "z_scores = stats.zscore(train_df_encoded.select_dtypes(include=[float, int]))\n",
    "\n",
    "# Identify outliers based on Z-score (commonly, |z| > 3)\n",
    "outliers = (abs(z_scores) > 3).any(axis=1)\n",
    "print(f\"Number of outlier rows: {outliers.sum()}\")\n"
   ]
  },
  {
   "cell_type": "markdown",
   "metadata": {},
   "source": [
    "#### Visualizing outliers"
   ]
  },
  {
   "cell_type": "code",
   "execution_count": null,
   "metadata": {},
   "outputs": [],
   "source": [
    "# Plotting outliers\n",
    "import matplotlib.pyplot as plt\n",
    "import seaborn as sns\n",
    "import math\n",
    "\n",
    "# combining features and target\n",
    "X = train_df_encoded\n",
    "y = training_labels[\"seasonal_vaccine\"]\n",
    "combined_df = pd.concat([X, y], axis=1)\n",
    "\n",
    "n_features = len(X.columns)\n",
    "n_cols = 4  # Number of columns in the grid\n",
    "n_rows = math.ceil(n_features / n_cols)  # Number of rows in the grid\n",
    "\n",
    "plt.figure(figsize=(20, n_rows * 5))  # Adjust height based on number of rows\n",
    "\n",
    "for i, column in enumerate(X.columns, 1):\n",
    "    plt.subplot(n_rows, n_cols, i)\n",
    "    sns.boxplot(x=y, y=combined_df[column])\n",
    "    plt.title(f\"Boxplot of {column} by Target\")\n",
    "plt.tight_layout()     \n",
    "plt.show()"
   ]
  },
  {
   "cell_type": "markdown",
   "metadata": {},
   "source": [
    "### Using Log Transformation to handle variance (skewness) identified above in our features\n",
    "This will stabilize the variance and make patterns in the data more interpretable, making the features more beneicial to our model"
   ]
  },
  {
   "cell_type": "code",
   "execution_count": 81,
   "metadata": {},
   "outputs": [],
   "source": [
    "# Apply log1p transformation to all columns\n",
    "X_log_transformed = train_df_encoded.apply(np.log1p)"
   ]
  },
  {
   "cell_type": "markdown",
   "metadata": {},
   "source": [
    "# Building Our Model Now"
   ]
  },
  {
   "cell_type": "markdown",
   "metadata": {},
   "source": [
    "### Splitting the data after preprocessing"
   ]
  },
  {
   "cell_type": "code",
   "execution_count": 82,
   "metadata": {},
   "outputs": [],
   "source": [
    "from sklearn.model_selection import train_test_split\n",
    "\n",
    "X = train_df_encoded  # Features\n",
    "y = training_labels[\"seasonal_vaccine\"]  # Target\n",
    "\n",
    "X_train, X_test, y_train, y_test = train_test_split(X, y, test_size=0.2, random_state=42)\n"
   ]
  },
  {
   "cell_type": "markdown",
   "metadata": {},
   "source": [
    "## Feature selection after we have pre-processed our data\n",
    "### Model Training \n",
    "- Using Logistic Regression Model\n",
    "- Using Random Forest Classifier\n",
    "#### Using Wrapper method - Recursive Feature Selection\n",
    "#### Using Embeded method - Random Forest Classifier\n",
    "### Model Evaluation\n",
    "- Using metrics such as:\n",
    "- - Accuracy\n",
    "- - Precision\n",
    "- - Recall\n",
    "- - F1-score\n",
    "### Model Interpretation\n",
    "- To understand the importance of features\n",
    "### Model Deployment"
   ]
  },
  {
   "cell_type": "markdown",
   "metadata": {},
   "source": [
    "### Using Logistic Regression Model\n",
    "- Later evaluating the model using various metrics"
   ]
  },
  {
   "cell_type": "code",
   "execution_count": 83,
   "metadata": {},
   "outputs": [
    {
     "name": "stdout",
     "output_type": "stream",
     "text": [
      "Top 10 features based on Logistic Regression coefficients:\n",
      "1. Feature 14, : 'opinion_seas_risk' (coefficient: 0.7436)\n",
      "2. Feature 21, : 'age_group_65+ Years' (coefficient: 0.6598)\n",
      "3. Feature 13, : 'opinion_seas_vacc_effective' (coefficient: 0.6230)\n",
      "4. Feature 8, : 'doctor_recc_seasonal' (coefficient: 0.5757)\n",
      "5. Feature 20, : 'age_group_55 - 64 Years' (coefficient: 0.3044)\n",
      "6. Feature 15, : 'opinion_seas_sick_from_vacc' (coefficient: -0.2958)\n",
      "7. Feature 11, : 'health_worker' (coefficient: 0.1952)\n",
      "8. Feature 19, : 'age_group_45 - 54 Years' (coefficient: 0.1806)\n",
      "9. Feature 12, : 'health_insurance' (coefficient: 0.1562)\n",
      "10. Feature 27, : 'race_White' (coefficient: 0.1505)\n",
      "Classification Report:\n",
      "              precision    recall  f1-score   support\n",
      "\n",
      "           0       0.78      0.77      0.78      2891\n",
      "           1       0.74      0.75      0.74      2451\n",
      "\n",
      "    accuracy                           0.76      5342\n",
      "   macro avg       0.76      0.76      0.76      5342\n",
      "weighted avg       0.76      0.76      0.76      5342\n",
      "\n",
      "Confusion Matrix:\n",
      "[[2234  657]\n",
      " [ 612 1839]]\n"
     ]
    }
   ],
   "source": [
    "from sklearn.feature_selection import SelectKBest, f_classif, RFE\n",
    "from sklearn.linear_model import LogisticRegression\n",
    "from sklearn.ensemble import RandomForestClassifier\n",
    "\n",
    "\n",
    "# Scaling the features to avoid biasness\n",
    "scaler = StandardScaler()\n",
    "X_train_scaled = scaler.fit_transform(X_train)\n",
    "X_test_scaled = scaler.transform(X_test)\n",
    "\n",
    "# Initializing and training the Logistic Regression model\n",
    "lr_model = LogisticRegression(max_iter=1000)  # max_iter is needed for our model to perform\n",
    "lr_model.fit(X_train_scaled, y_train)\n",
    "\n",
    "# Geting feature coefficients\n",
    "coefficients = lr_model.coef_[0]  # For binary classification, use [0]\n",
    "\n",
    "# Geting indices of features sorted by the absolute value of coefficients\n",
    "lr_indices = np.argsort(np.abs(coefficients))[::-1]\n",
    "feature_names = X.columns # for getting feature names\n",
    "# Select the top N features\n",
    "lr_top_n = 10\n",
    "lr_top_indices = lr_indices[:lr_top_n]\n",
    "\n",
    "print(\"Top 10 features based on Logistic Regression coefficients:\")\n",
    "for i in range(lr_top_n):\n",
    "    lr_feature_name = feature_names[lr_top_indices[i]]\n",
    "    print(f\"{i + 1}. Feature {lr_top_indices[i]}, : '{lr_feature_name}' (coefficient: {coefficients[lr_top_indices[i]]:.4f})\")\n",
    "\n",
    "# Transform training and test data to only include top features\n",
    "X_train_lr_selected = X_train_scaled[:, lr_top_indices]\n",
    "X_test_lr_selected = X_test_scaled[:, lr_top_indices]\n",
    "\n",
    "# Retraining and evaluating our model using only the selected features\n",
    "from sklearn.metrics import classification_report, confusion_matrix\n",
    "\n",
    "# Train a Random Forest model using the selected features\n",
    "rf_model = RandomForestClassifier()\n",
    "rf_model.fit(X_train_lr_selected, y_train)\n",
    "\n",
    "\n",
    "\n",
    "\n",
    "\n",
    "# Predict on test data\n",
    "y_pred_1 = rf_model.predict(X_test_lr_selected)\n",
    "\n",
    "# Print classification report and confusion matrix\n",
    "print(\"Classification Report:\")\n",
    "print(classification_report(y_test, y_pred_1))\n",
    "print(\"Confusion Matrix:\")\n",
    "print(confusion_matrix(y_test, y_pred_1))"
   ]
  },
  {
   "cell_type": "code",
   "execution_count": 84,
   "metadata": {},
   "outputs": [
    {
     "data": {
      "text/html": [
       "<div>\n",
       "<style scoped>\n",
       "    .dataframe tbody tr th:only-of-type {\n",
       "        vertical-align: middle;\n",
       "    }\n",
       "\n",
       "    .dataframe tbody tr th {\n",
       "        vertical-align: top;\n",
       "    }\n",
       "\n",
       "    .dataframe thead th {\n",
       "        text-align: right;\n",
       "    }\n",
       "</style>\n",
       "<table border=\"1\" class=\"dataframe\">\n",
       "  <thead>\n",
       "    <tr style=\"text-align: right;\">\n",
       "      <th></th>\n",
       "      <th>Feature Based On Random Classifier</th>\n",
       "    </tr>\n",
       "  </thead>\n",
       "  <tbody>\n",
       "    <tr>\n",
       "      <th>0</th>\n",
       "      <td>behavioral_avoidance</td>\n",
       "    </tr>\n",
       "    <tr>\n",
       "      <th>1</th>\n",
       "      <td>respondent_id</td>\n",
       "    </tr>\n",
       "    <tr>\n",
       "      <th>2</th>\n",
       "      <td>behavioral_face_mask</td>\n",
       "    </tr>\n",
       "    <tr>\n",
       "      <th>3</th>\n",
       "      <td>behavioral_large_gatherings</td>\n",
       "    </tr>\n",
       "    <tr>\n",
       "      <th>4</th>\n",
       "      <td>behavioral_antiviral_meds</td>\n",
       "    </tr>\n",
       "    <tr>\n",
       "      <th>5</th>\n",
       "      <td>doctor_recc_seasonal</td>\n",
       "    </tr>\n",
       "    <tr>\n",
       "      <th>6</th>\n",
       "      <td>behavioral_outside_home</td>\n",
       "    </tr>\n",
       "    <tr>\n",
       "      <th>7</th>\n",
       "      <td>chronic_med_condition</td>\n",
       "    </tr>\n",
       "    <tr>\n",
       "      <th>8</th>\n",
       "      <td>behavioral_wash_hands</td>\n",
       "    </tr>\n",
       "    <tr>\n",
       "      <th>9</th>\n",
       "      <td>behavioral_touch_face</td>\n",
       "    </tr>\n",
       "  </tbody>\n",
       "</table>\n",
       "</div>"
      ],
      "text/plain": [
       "  Feature Based On Random Classifier\n",
       "0               behavioral_avoidance\n",
       "1                      respondent_id\n",
       "2               behavioral_face_mask\n",
       "3        behavioral_large_gatherings\n",
       "4          behavioral_antiviral_meds\n",
       "5               doctor_recc_seasonal\n",
       "6            behavioral_outside_home\n",
       "7              chronic_med_condition\n",
       "8              behavioral_wash_hands\n",
       "9              behavioral_touch_face"
      ]
     },
     "execution_count": 84,
     "metadata": {},
     "output_type": "execute_result"
    }
   ],
   "source": [
    "# Get feature importances\n",
    "rf_importances = rf_model.feature_importances_\n",
    "feature_names = X.columns\n",
    "feature_importance_dict = dict(zip(feature_names, rf_importances))\n",
    "\n",
    "# Sort features by importance\n",
    "rf_sorted_features = sorted(feature_importance_dict.items(), key=lambda x: x[1], reverse=True)\n",
    "\n",
    "# Get the top 10 features\n",
    "rf_top_10_features = rf_sorted_features[:10]\n",
    "\n",
    "# Creating a DataFrame with only the top 10 feature names\n",
    "rf_top_10_feature_names = [feature for feature, importance in rf_top_10_features]\n",
    "rf_top_10_df = pd.DataFrame(rf_top_10_feature_names, columns=['Feature Based On Random Classifier'])\n",
    "\n",
    "rf_top_10_df"
   ]
  },
  {
   "cell_type": "markdown",
   "metadata": {},
   "source": [
    "### Bar Chart of Feature Importances Based on Logistic Regression"
   ]
  },
  {
   "cell_type": "code",
   "execution_count": 85,
   "metadata": {},
   "outputs": [
    {
     "data": {
      "image/png": "[encoded data removed]",
      "text/plain": [
       "<Figure size 864x576 with 1 Axes>"
      ]
     },
     "metadata": {
      "needs_background": "light"
     },
     "output_type": "display_data"
    }
   ],
   "source": [
    "import seaborn as sns\n",
    "import matplotlib.pyplot as plt\n",
    "\n",
    "lr_top_n = 10\n",
    "lr_top_indices = lr_indices[:lr_top_n]\n",
    "lr_top_importances = coefficients[lr_top_indices]\n",
    "\n",
    "# Plot the top 10 features\n",
    "plt.figure(figsize=(12, 8))\n",
    "plt.title(\"Top 10 Features Based On Logistic Regression Model\")\n",
    "plt.bar(range(lr_top_n), lr_top_importances, align=\"center\")\n",
    "plt.xticks(range(lr_top_n), X_train.columns[lr_top_indices], rotation=90)\n",
    "plt.xlim([-1, lr_top_n])\n",
    "plt.show()\n"
   ]
  },
  {
   "cell_type": "markdown",
   "metadata": {},
   "source": [
    "### Using Confusion Matrix Visualization\n",
    "To display the performance of the classification model in terms of true positives, true negatives, false positives, and false negatives.\n",
    "- **Objective** To give us a clear view of how well the model is performing on the test data, particularly in identifying the correct and incorrect predictions."
   ]
  },
  {
   "cell_type": "code",
   "execution_count": 86,
   "metadata": {},
   "outputs": [
    {
     "name": "stderr",
     "output_type": "stream",
     "text": [
      "C:\\Users\\admin\\anaconda3\\envs\\learn-env\\lib\\site-packages\\sklearn\\base.py:458: UserWarning: X has feature names, but LogisticRegression was fitted without feature names\n",
      "  warnings.warn(\n"
     ]
    },
    {
     "data": {
      "image/png": "[encoded data removed]",
      "text/plain": [
       "<Figure size 432x288 with 2 Axes>"
      ]
     },
     "metadata": {
      "needs_background": "light"
     },
     "output_type": "display_data"
    }
   ],
   "source": [
    "from sklearn.metrics import ConfusionMatrixDisplay\n",
    "\n",
    "disp = ConfusionMatrixDisplay.from_estimator(lr_model, X_test, y_test, cmap='Blues')\n",
    "plt.title('Confusion Matrix')\n",
    "plt.show()"
   ]
  },
  {
   "cell_type": "markdown",
   "metadata": {},
   "source": [
    "# Findings Based on Logistic Regression\n",
    "- The model is having a very high Fals positive rate and a very True positive rate"
   ]
  },
  {
   "cell_type": "markdown",
   "metadata": {},
   "source": [
    "### Using a Decision Tree Model\n",
    "- Later evaluating the model using various metrics"
   ]
  },
  {
   "cell_type": "code",
   "execution_count": 87,
   "metadata": {},
   "outputs": [
    {
     "name": "stdout",
     "output_type": "stream",
     "text": [
      "Top 10 features based on Decision Tree importance:\n",
      "1. Feature 13 : 'opinion_seas_vacc_effective' (importance: 0.1568)\n",
      "2. Feature 0 : 'respondent_id' (importance: 0.1169)\n",
      "3. Feature 8 : 'doctor_recc_seasonal' (importance: 0.0975)\n",
      "4. Feature 14 : 'opinion_seas_risk' (importance: 0.0651)\n",
      "5. Feature 21 : 'age_group_65+ Years' (importance: 0.0313)\n",
      "6. Feature 15 : 'opinion_seas_sick_from_vacc' (importance: 0.0304)\n",
      "7. Feature 16 : 'household_adults' (importance: 0.0194)\n",
      "8. Feature 12 : 'health_insurance' (importance: 0.0186)\n",
      "9. Feature 17 : 'household_children' (importance: 0.0174)\n",
      "10. Feature 9 : 'chronic_med_condition' (importance: 0.0142)\n",
      "Classification Report:\n",
      "              precision    recall  f1-score   support\n",
      "\n",
      "           0       0.74      0.75      0.74      2891\n",
      "           1       0.70      0.69      0.69      2451\n",
      "\n",
      "    accuracy                           0.72      5342\n",
      "   macro avg       0.72      0.72      0.72      5342\n",
      "weighted avg       0.72      0.72      0.72      5342\n",
      "\n",
      "Confusion Matrix:\n",
      "[[2157  734]\n",
      " [ 769 1682]]\n"
     ]
    }
   ],
   "source": [
    "from sklearn.tree import DecisionTreeClassifier\n",
    "from sklearn.metrics import classification_report, confusion_matrix\n",
    "# Scaling the features first\n",
    "\n",
    "# Initializing and training the Decision Tree model\n",
    "dt_model = DecisionTreeClassifier()\n",
    "dt_model.fit(X_train_scaled, y_train)\n",
    "\n",
    "# Get feature importances\n",
    "dt_importances = dt_model.feature_importances_\n",
    "\n",
    "# Geting feature indices sorted by importance\n",
    "dt_indices = np.argsort(dt_importances)[::-1]\n",
    "\n",
    "# Selecting the top 10 features\n",
    "dt_top_n = 10\n",
    "dt_top_indices = dt_indices[:dt_top_n]\n",
    "feature_names = X.columns # for getting feature names\n",
    "# Print out the top features\n",
    "print(\"Top 10 features based on Decision Tree importance:\")\n",
    "for i in range(dt_top_n):\n",
    "    dt_feature_name = feature_names[dt_top_indices[i]]\n",
    "    print(f\"{i + 1}. Feature {dt_top_indices[i]} : '{dt_feature_name}' (importance: {dt_importances[dt_top_indices[i]]:.4f})\")\n",
    "\n",
    "# Transforming the training and test data to only include top features\n",
    "X_train_dt_selected = X_train_scaled[:, dt_top_indices]\n",
    "X_test_dt_selected = X_test_scaled[:, dt_top_indices]\n",
    "\n",
    "# Training again the model using the selected features\n",
    "from sklearn.ensemble import RandomForestClassifier\n",
    "\n",
    "rf_model = RandomForestClassifier()\n",
    "rf_model.fit(X_train_dt_selected, y_train)\n",
    "\n",
    "# Predicting using our model on the test data\n",
    "y_pred_2 = rf_model.predict(X_test_dt_selected)\n",
    "\n",
    "# Outputing the classification report and confusion matrix\n",
    "print(\"Classification Report:\")\n",
    "print(classification_report(y_test, y_pred_2))\n",
    "print(\"Confusion Matrix:\")\n",
    "print(confusion_matrix(y_test, y_pred_2))"
   ]
  },
  {
   "cell_type": "code",
   "execution_count": 88,
   "metadata": {},
   "outputs": [
    {
     "data": {
      "text/html": [
       "<div>\n",
       "<style scoped>\n",
       "    .dataframe tbody tr th:only-of-type {\n",
       "        vertical-align: middle;\n",
       "    }\n",
       "\n",
       "    .dataframe tbody tr th {\n",
       "        vertical-align: top;\n",
       "    }\n",
       "\n",
       "    .dataframe thead th {\n",
       "        text-align: right;\n",
       "    }\n",
       "</style>\n",
       "<table border=\"1\" class=\"dataframe\">\n",
       "  <thead>\n",
       "    <tr style=\"text-align: right;\">\n",
       "      <th></th>\n",
       "      <th>Features BasedOn Decision Tree Model</th>\n",
       "    </tr>\n",
       "  </thead>\n",
       "  <tbody>\n",
       "    <tr>\n",
       "      <th>0</th>\n",
       "      <td>opinion_seas_vacc_effective</td>\n",
       "    </tr>\n",
       "    <tr>\n",
       "      <th>1</th>\n",
       "      <td>respondent_id</td>\n",
       "    </tr>\n",
       "    <tr>\n",
       "      <th>2</th>\n",
       "      <td>doctor_recc_seasonal</td>\n",
       "    </tr>\n",
       "    <tr>\n",
       "      <th>3</th>\n",
       "      <td>opinion_seas_risk</td>\n",
       "    </tr>\n",
       "    <tr>\n",
       "      <th>4</th>\n",
       "      <td>age_group_65+ Years</td>\n",
       "    </tr>\n",
       "    <tr>\n",
       "      <th>5</th>\n",
       "      <td>opinion_seas_sick_from_vacc</td>\n",
       "    </tr>\n",
       "    <tr>\n",
       "      <th>6</th>\n",
       "      <td>household_adults</td>\n",
       "    </tr>\n",
       "    <tr>\n",
       "      <th>7</th>\n",
       "      <td>health_insurance</td>\n",
       "    </tr>\n",
       "    <tr>\n",
       "      <th>8</th>\n",
       "      <td>household_children</td>\n",
       "    </tr>\n",
       "    <tr>\n",
       "      <th>9</th>\n",
       "      <td>chronic_med_condition</td>\n",
       "    </tr>\n",
       "  </tbody>\n",
       "</table>\n",
       "</div>"
      ],
      "text/plain": [
       "  Features BasedOn Decision Tree Model\n",
       "0          opinion_seas_vacc_effective\n",
       "1                        respondent_id\n",
       "2                 doctor_recc_seasonal\n",
       "3                    opinion_seas_risk\n",
       "4                  age_group_65+ Years\n",
       "5          opinion_seas_sick_from_vacc\n",
       "6                     household_adults\n",
       "7                     health_insurance\n",
       "8                   household_children\n",
       "9                chronic_med_condition"
      ]
     },
     "execution_count": 88,
     "metadata": {},
     "output_type": "execute_result"
    }
   ],
   "source": [
    "# Get feature importances\n",
    "\n",
    "feature_importance_dict = dict(zip(feature_names, dt_importances))\n",
    "\n",
    "# Sort features by importance\n",
    "sorted_features = sorted(feature_importance_dict.items(), key=lambda x: x[1], reverse=True)\n",
    "\n",
    "# Get the top 10 features\n",
    "top_10_features = sorted_features[:10]\n",
    "\n",
    "# Creating a DataFrame with feature names only\n",
    "top_10_feature_names = [feature for feature, dt_importance in top_10_features]\n",
    "top_10_df = pd.DataFrame(top_10_feature_names, columns=[\"Features BasedOn Decision Tree Model\"])\n",
    "\n",
    "top_10_df"
   ]
  },
  {
   "cell_type": "markdown",
   "metadata": {},
   "source": [
    "### Bar Chart of Feature Importances"
   ]
  },
  {
   "cell_type": "code",
   "execution_count": 89,
   "metadata": {},
   "outputs": [
    {
     "data": {
      "image/png": "[encoded data removed]",
      "text/plain": [
       "<Figure size 864x576 with 1 Axes>"
      ]
     },
     "metadata": {
      "needs_background": "light"
     },
     "output_type": "display_data"
    }
   ],
   "source": [
    "dt_top_n = 10\n",
    "dt_top_indices = dt_indices[:dt_top_n]\n",
    "dt_top_importances = dt_importances[dt_top_indices]\n",
    "\n",
    "# Plot the top 10 features\n",
    "plt.figure(figsize=(12, 8))\n",
    "plt.title(\"Top 10 Features Based On Decision Tree Model\")\n",
    "plt.bar(range(dt_top_n), dt_top_importances, align=\"center\")\n",
    "plt.xticks(range(dt_top_n), X_train.columns[dt_top_indices], rotation=90)\n",
    "plt.xlim([-1, dt_top_n])\n",
    "plt.show()\n",
    "\n"
   ]
  },
  {
   "cell_type": "markdown",
   "metadata": {},
   "source": [
    "### Using Confusion Matrix Visualization\n",
    "To display the performance of the classification model in terms of true positives, true negatives, false positives, and false negatives.\n",
    "- **Objective** To give us a clear view of how well the model is performing on the test data, particularly in identifying the correct and incorrect predictions."
   ]
  },
  {
   "cell_type": "code",
   "execution_count": 90,
   "metadata": {},
   "outputs": [
    {
     "name": "stderr",
     "output_type": "stream",
     "text": [
      "C:\\Users\\admin\\anaconda3\\envs\\learn-env\\lib\\site-packages\\sklearn\\base.py:458: UserWarning: X has feature names, but DecisionTreeClassifier was fitted without feature names\n",
      "  warnings.warn(\n"
     ]
    },
    {
     "data": {
      "image/png": "[encoded data removed]",
      "text/plain": [
       "<Figure size 432x288 with 2 Axes>"
      ]
     },
     "metadata": {
      "needs_background": "light"
     },
     "output_type": "display_data"
    }
   ],
   "source": [
    "from sklearn.metrics import ConfusionMatrixDisplay\n",
    "\n",
    "disp = ConfusionMatrixDisplay.from_estimator(dt_model, X_test, y_test, cmap='Blues')\n",
    "plt.title('Confusion Matrix Based on Decision Tree')\n",
    "plt.show()"
   ]
  },
  {
   "cell_type": "markdown",
   "metadata": {},
   "source": [
    "# Findings Based on Decision Trees\n",
    "- The model is having a very high True Negatives and a very high True positives predictions\n",
    "- This tells that our model is not biased."
   ]
  },
  {
   "cell_type": "markdown",
   "metadata": {},
   "source": [
    "### ROC Curve To Help in Visualizing The Performance of the Classification Model\n",
    "- This will show us the trade-off between true positive rate and false positive rate"
   ]
  },
  {
   "cell_type": "code",
   "execution_count": 91,
   "metadata": {},
   "outputs": [
    {
     "name": "stderr",
     "output_type": "stream",
     "text": [
      "C:\\Users\\admin\\anaconda3\\envs\\learn-env\\lib\\site-packages\\sklearn\\base.py:458: UserWarning: X has feature names, but LogisticRegression was fitted without feature names\n",
      "  warnings.warn(\n",
      "C:\\Users\\admin\\anaconda3\\envs\\learn-env\\lib\\site-packages\\sklearn\\base.py:458: UserWarning: X has feature names, but DecisionTreeClassifier was fitted without feature names\n",
      "  warnings.warn(\n"
     ]
    },
    {
     "data": {
      "image/png": "[encoded data removed]",
      "text/plain": [
       "<Figure size 576x432 with 1 Axes>"
      ]
     },
     "metadata": {
      "needs_background": "light"
     },
     "output_type": "display_data"
    }
   ],
   "source": [
    "from sklearn.metrics import roc_curve, auc\n",
    "\n",
    "y_pred_1 = lr_model.predict_proba(X_test)[:, 1]\n",
    "fpr1, tpr1, thresholds1 = roc_curve(y_test, y_pred_1)\n",
    "roc_auc1 = auc(fpr1, tpr1)\n",
    "\n",
    "# For Model 2\n",
    "y_pred_2 = dt_model.predict_proba(X_test)[:, 1]\n",
    "fpr2, tpr2, thresholds2 = roc_curve(y_test, y_pred_2)\n",
    "roc_auc2 = auc(fpr2, tpr2)\n",
    "\n",
    "\n",
    "\n",
    "# Ploting both ROC curves on the same plot\n",
    "plt.figure(figsize=(8, 6))\n",
    "plt.plot(fpr1, tpr1, color='blue', lw=2, label='Model 1 ROC curve (area = %0.2f)' % roc_auc1)\n",
    "plt.plot(fpr2, tpr2, color='green', lw=2, label='Model 2 ROC curve (area = %0.2f)' % roc_auc2)\n",
    "plt.plot([0, 1], [0, 1], color='gray', lw=2, linestyle='--')\n",
    "plt.xlim([0.0, 1.0])\n",
    "plt.ylim([0.0, 1.05])\n",
    "plt.xlabel('False Positive Rate')\n",
    "plt.ylabel('True Positive Rate')\n",
    "plt.title('Receiver Operating Characteristic (ROC) Curve')\n",
    "plt.legend(loc=\"lower right\")\n",
    "plt.show()\n"
   ]
  },
  {
   "cell_type": "markdown",
   "metadata": {},
   "source": [
    "# Findings Based on ROC Curve\n",
    "- Model 2 which is the Decision Tree model is performing much better and thus is which we should use\n",
    "- This is because it stretches towards the top corner meaning it is closer to 1\n",
    "- This tells us it has a high rate o f true positives given true predictions"
   ]
  },
  {
   "cell_type": "markdown",
   "metadata": {},
   "source": [
    "### Conclussion based on features in our model"
   ]
  },
  {
   "cell_type": "code",
   "execution_count": 92,
   "metadata": {},
   "outputs": [
    {
     "name": "stdout",
     "output_type": "stream",
     "text": [
      "The following were the top 10 most influential features based on Logistic Regression Model: [14 21 13  8 20 15 11 19 12 27] We are therefore 77% confident that our model will effectively predict the vaccination outcome given the features\n"
     ]
    }
   ],
   "source": [
    "print(f\"The following were the top 10 most influential features based on Logistic Regression Model: {lr_top_indices} We are therefore 77% confident that our model will effectively predict the vaccination outcome given the features\")"
   ]
  },
  {
   "cell_type": "code",
   "execution_count": 93,
   "metadata": {},
   "outputs": [
    {
     "name": "stdout",
     "output_type": "stream",
     "text": [
      "The following were the top 10 most influential features based on Decision Tree Model: [13  0  8 14 21 15 16 12 17  9] We are therefore 73% confident that our model will effectively predict the vaccination outcome given the features\n"
     ]
    }
   ],
   "source": [
    "print(f\"The following were the top 10 most influential features based on Decision Tree Model: {dt_top_indices} We are therefore 73% confident that our model will effectively predict the vaccination outcome given the features\")"
   ]
  },
  {
   "cell_type": "markdown",
   "metadata": {},
   "source": [
    "## **Conclusion**\n",
    "By leveraging Logistic Regression for feature selection and using Random Forest for the final predictive modeling, I have developed a streamlined and focused model that is based on the most relevant features. The evaluation of the Random Forest model indicates how effectively these features contribute to accurate predictions. This approach balances both feature selection with model evaluation, ensuring that the final model is both efficient and effective.\n",
    "\n",
    "### To All Our Stakeholders\n",
    "-- Using the features provided by our models, new policies can be made, resources allocated, and plans made to drive vaccination sbased on them.\n",
    "-- Stakeholders are now able to use the features to ome up with incentives on the groups that are less likely to be vaccinated thus curbing the spread of the virus.\n",
    "-- Public health departments can now use this features to their advantage in developing target interventions in specific populations whereby the feature depicts that they are lesss likely to get the vaccine"
   ]
  }
 ],
 "metadata": {
  "kernelspec": {
   "display_name": "Python 3",
   "language": "python",
   "name": "python3"
  },
  "language_info": {
   "codemirror_mode": {
    "name": "ipython",
    "version": 3
   },
   "file_extension": ".py",
   "mimetype": "text/x-python",
   "name": "python",
   "nbconvert_exporter": "python",
   "pygments_lexer": "ipython3",
   "version": "3.8.5"
  }
 },
 "nbformat": 4,
 "nbformat_minor": 4
}
